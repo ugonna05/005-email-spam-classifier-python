{
  "nbformat": 4,
  "nbformat_minor": 0,
  "metadata": {
    "colab": {
      "name": "hyperparameter comparison",
      "provenance": [],
      "collapsed_sections": [],
      "mount_file_id": "1PAi52sfmycmjyinREGImXdWZnHXmiVU5",
      "authorship_tag": "ABX9TyMxQN3ZH7Tffj2cVdin3BFI",
      "include_colab_link": true
    },
    "kernelspec": {
      "display_name": "Python 3",
      "name": "python3"
    },
    "language_info": {
      "name": "python"
    }
  },
  "cells": [
    {
      "cell_type": "markdown",
      "metadata": {
        "id": "view-in-github",
        "colab_type": "text"
      },
      "source": [
        "<a href=\"https://colab.research.google.com/github/ugonna05/005-email-spam-classifier-python/blob/main/hyperparameter_comparison.ipynb\" target=\"_parent\"><img src=\"https://colab.research.google.com/assets/colab-badge.svg\" alt=\"Open In Colab\"/></a>"
      ]
    },
    {
      "cell_type": "markdown",
      "metadata": {
        "id": "OF25oPH_Tvy0"
      },
      "source": [
        "# hyperparameter tuning"
      ]
    },
    {
      "cell_type": "markdown",
      "metadata": {
        "id": "QNGL6Zp0WOJO"
      },
      "source": [
        "**Basically, anything in machine learning and deep learning that you decide their values or choose their configuration before training begins and whose values or configuration will remain the same when training ends is a hyperparameter. **\n",
        "\n",
        "Here are some common examples\n",
        "\n",
        "\n",
        "\n",
        "*  Train-test split ratio \n",
        "* Learning rate in optimization  algorithms (e.g. gradient descent)\n",
        "*  Choice of optimization algorithm (e.g., gradient descent, stochastic gradient descent, or Adam optimizer)\n",
        "*  Choice of activation function in a neural network (nn) layer (e.g. Sigmoid, ReLU, Tanh)\n",
        "* The choice of cost or loss function the model will use\n",
        "* Number of hidden layers in a nn\n",
        "* Number of activation units in each layer\n",
        "* The drop-out rate in nn (dropout probability)\n",
        "* Number of iterations (epochs) in training a nn\n",
        "* Number of clusters in a clustering task\n",
        "*   Kernel or filter size in convolutional layers\n",
        "* Pooling size\n",
        "* Batch size \n",
        "\n"
      ]
    },
    {
      "cell_type": "markdown",
      "metadata": {
        "id": "SuWWaqwvl_2Z"
      },
      "source": [
        "# Hyperparameter Optimization (HPO) of Machine Learning Models\n",
        "\n",
        "**sample code for classification problems**\n",
        "**Dataset used:**\n",
        "MNIST from sklearn\n",
        "\n",
        "**Machine learning algorithms used:**\n",
        "Random Forest (RF), Support Vector machine (SVM), K-Nearest Neighbor (KNN), Artificial Neural Networks (ANN)\n",
        "\n",
        "**HPO algorithm used:**\n",
        "Grid Search, random search, hyperband, Bayesian Optimization with structured Gaussian Processes (BO-GP), Bayesian Optimization with structured Parzen Estimator (BO-TPE), particle swarm optimization (PSO), genetic algorithm (AG)\n",
        "\n",
        "**performance metrics:**\n",
        "Classification accuracy"
      ]
    },
    {
      "cell_type": "code",
      "metadata": {
        "id": "i8rrWXDzpI0G"
      },
      "source": [
        "import numpy as np\n",
        "import pandas as pd\n",
        "import seaborn as sns\n",
        "import matplotlib.pyplot as plt\n",
        "from sklearn.model_selection import train_test_split, cross_val_score\n",
        "from sklearn.ensemble import RandomForestClassifier, RandomForestRegressor\n",
        "from sklearn.metrics import classification_report, confusion_matrix, accuracy_score\n",
        "from sklearn.neighbors import KNeighborsClassifier, KNeighborsRegressor\n",
        "from sklearn.svm import SVC, SVR\n",
        "from sklearn import datasets\n",
        "import scipy.stats as stats"
      ],
      "execution_count": null,
      "outputs": []
    },
    {
      "cell_type": "markdown",
      "metadata": {
        "id": "0_qeoXDRrUgr"
      },
      "source": [
        "# Load MNIST Dataset\n",
        "the MNIST database (modefied national institutebof standard and technology database) is a large database of handwritten digits that is commonly used for training various image processesing systems, the MNIST database has training set of 60,000 examples, and a test set of 10,000 examples. ikt is a subset of a large set available from NIST.\n",
        "the digits have been size-normalized and centered in afixed-size image.\n",
        "\n",
        "you can read more about the data and its varable"
      ]
    },
    {
      "cell_type": "code",
      "metadata": {
        "id": "9dW6WO2hjxrV"
      },
      "source": [
        "d=datasets.load_digits()\n",
        "x=d.data\n",
        "y=d.target"
      ],
      "execution_count": null,
      "outputs": []
    },
    {
      "cell_type": "code",
      "metadata": {
        "colab": {
          "base_uri": "https://localhost:8080/"
        },
        "id": "QMOO7-UCTKMw",
        "outputId": "2bcc9659-789b-4413-e74a-7d7345357f57"
      },
      "source": [
        " datasets.load_digits()"
      ],
      "execution_count": null,
      "outputs": [
        {
          "data": {
            "text/plain": [
              "{'DESCR': \".. _digits_dataset:\\n\\nOptical recognition of handwritten digits dataset\\n--------------------------------------------------\\n\\n**Data Set Characteristics:**\\n\\n    :Number of Instances: 1797\\n    :Number of Attributes: 64\\n    :Attribute Information: 8x8 image of integer pixels in the range 0..16.\\n    :Missing Attribute Values: None\\n    :Creator: E. Alpaydin (alpaydin '@' boun.edu.tr)\\n    :Date: July; 1998\\n\\nThis is a copy of the test set of the UCI ML hand-written digits datasets\\nhttps://archive.ics.uci.edu/ml/datasets/Optical+Recognition+of+Handwritten+Digits\\n\\nThe data set contains images of hand-written digits: 10 classes where\\neach class refers to a digit.\\n\\nPreprocessing programs made available by NIST were used to extract\\nnormalized bitmaps of handwritten digits from a preprinted form. From a\\ntotal of 43 people, 30 contributed to the training set and different 13\\nto the test set. 32x32 bitmaps are divided into nonoverlapping blocks of\\n4x4 and the number of on pixels are counted in each block. This generates\\nan input matrix of 8x8 where each element is an integer in the range\\n0..16. This reduces dimensionality and gives invariance to small\\ndistortions.\\n\\nFor info on NIST preprocessing routines, see M. D. Garris, J. L. Blue, G.\\nT. Candela, D. L. Dimmick, J. Geist, P. J. Grother, S. A. Janet, and C.\\nL. Wilson, NIST Form-Based Handprint Recognition System, NISTIR 5469,\\n1994.\\n\\n.. topic:: References\\n\\n  - C. Kaynak (1995) Methods of Combining Multiple Classifiers and Their\\n    Applications to Handwritten Digit Recognition, MSc Thesis, Institute of\\n    Graduate Studies in Science and Engineering, Bogazici University.\\n  - E. Alpaydin, C. Kaynak (1998) Cascading Classifiers, Kybernetika.\\n  - Ken Tang and Ponnuthurai N. Suganthan and Xi Yao and A. Kai Qin.\\n    Linear dimensionalityreduction using relevance weighted LDA. School of\\n    Electrical and Electronic Engineering Nanyang Technological University.\\n    2005.\\n  - Claudio Gentile. A New Approximate Maximal Margin Classification\\n    Algorithm. NIPS. 2000.\\n\",\n",
              " 'data': array([[ 0.,  0.,  5., ...,  0.,  0.,  0.],\n",
              "        [ 0.,  0.,  0., ..., 10.,  0.,  0.],\n",
              "        [ 0.,  0.,  0., ..., 16.,  9.,  0.],\n",
              "        ...,\n",
              "        [ 0.,  0.,  1., ...,  6.,  0.,  0.],\n",
              "        [ 0.,  0.,  2., ..., 12.,  0.,  0.],\n",
              "        [ 0.,  0., 10., ..., 12.,  1.,  0.]]),\n",
              " 'feature_names': ['pixel_0_0',\n",
              "  'pixel_0_1',\n",
              "  'pixel_0_2',\n",
              "  'pixel_0_3',\n",
              "  'pixel_0_4',\n",
              "  'pixel_0_5',\n",
              "  'pixel_0_6',\n",
              "  'pixel_0_7',\n",
              "  'pixel_1_0',\n",
              "  'pixel_1_1',\n",
              "  'pixel_1_2',\n",
              "  'pixel_1_3',\n",
              "  'pixel_1_4',\n",
              "  'pixel_1_5',\n",
              "  'pixel_1_6',\n",
              "  'pixel_1_7',\n",
              "  'pixel_2_0',\n",
              "  'pixel_2_1',\n",
              "  'pixel_2_2',\n",
              "  'pixel_2_3',\n",
              "  'pixel_2_4',\n",
              "  'pixel_2_5',\n",
              "  'pixel_2_6',\n",
              "  'pixel_2_7',\n",
              "  'pixel_3_0',\n",
              "  'pixel_3_1',\n",
              "  'pixel_3_2',\n",
              "  'pixel_3_3',\n",
              "  'pixel_3_4',\n",
              "  'pixel_3_5',\n",
              "  'pixel_3_6',\n",
              "  'pixel_3_7',\n",
              "  'pixel_4_0',\n",
              "  'pixel_4_1',\n",
              "  'pixel_4_2',\n",
              "  'pixel_4_3',\n",
              "  'pixel_4_4',\n",
              "  'pixel_4_5',\n",
              "  'pixel_4_6',\n",
              "  'pixel_4_7',\n",
              "  'pixel_5_0',\n",
              "  'pixel_5_1',\n",
              "  'pixel_5_2',\n",
              "  'pixel_5_3',\n",
              "  'pixel_5_4',\n",
              "  'pixel_5_5',\n",
              "  'pixel_5_6',\n",
              "  'pixel_5_7',\n",
              "  'pixel_6_0',\n",
              "  'pixel_6_1',\n",
              "  'pixel_6_2',\n",
              "  'pixel_6_3',\n",
              "  'pixel_6_4',\n",
              "  'pixel_6_5',\n",
              "  'pixel_6_6',\n",
              "  'pixel_6_7',\n",
              "  'pixel_7_0',\n",
              "  'pixel_7_1',\n",
              "  'pixel_7_2',\n",
              "  'pixel_7_3',\n",
              "  'pixel_7_4',\n",
              "  'pixel_7_5',\n",
              "  'pixel_7_6',\n",
              "  'pixel_7_7'],\n",
              " 'frame': None,\n",
              " 'images': array([[[ 0.,  0.,  5., ...,  1.,  0.,  0.],\n",
              "         [ 0.,  0., 13., ..., 15.,  5.,  0.],\n",
              "         [ 0.,  3., 15., ..., 11.,  8.,  0.],\n",
              "         ...,\n",
              "         [ 0.,  4., 11., ..., 12.,  7.,  0.],\n",
              "         [ 0.,  2., 14., ..., 12.,  0.,  0.],\n",
              "         [ 0.,  0.,  6., ...,  0.,  0.,  0.]],\n",
              " \n",
              "        [[ 0.,  0.,  0., ...,  5.,  0.,  0.],\n",
              "         [ 0.,  0.,  0., ...,  9.,  0.,  0.],\n",
              "         [ 0.,  0.,  3., ...,  6.,  0.,  0.],\n",
              "         ...,\n",
              "         [ 0.,  0.,  1., ...,  6.,  0.,  0.],\n",
              "         [ 0.,  0.,  1., ...,  6.,  0.,  0.],\n",
              "         [ 0.,  0.,  0., ..., 10.,  0.,  0.]],\n",
              " \n",
              "        [[ 0.,  0.,  0., ..., 12.,  0.,  0.],\n",
              "         [ 0.,  0.,  3., ..., 14.,  0.,  0.],\n",
              "         [ 0.,  0.,  8., ..., 16.,  0.,  0.],\n",
              "         ...,\n",
              "         [ 0.,  9., 16., ...,  0.,  0.,  0.],\n",
              "         [ 0.,  3., 13., ..., 11.,  5.,  0.],\n",
              "         [ 0.,  0.,  0., ..., 16.,  9.,  0.]],\n",
              " \n",
              "        ...,\n",
              " \n",
              "        [[ 0.,  0.,  1., ...,  1.,  0.,  0.],\n",
              "         [ 0.,  0., 13., ...,  2.,  1.,  0.],\n",
              "         [ 0.,  0., 16., ..., 16.,  5.,  0.],\n",
              "         ...,\n",
              "         [ 0.,  0., 16., ..., 15.,  0.,  0.],\n",
              "         [ 0.,  0., 15., ..., 16.,  0.,  0.],\n",
              "         [ 0.,  0.,  2., ...,  6.,  0.,  0.]],\n",
              " \n",
              "        [[ 0.,  0.,  2., ...,  0.,  0.,  0.],\n",
              "         [ 0.,  0., 14., ..., 15.,  1.,  0.],\n",
              "         [ 0.,  4., 16., ..., 16.,  7.,  0.],\n",
              "         ...,\n",
              "         [ 0.,  0.,  0., ..., 16.,  2.,  0.],\n",
              "         [ 0.,  0.,  4., ..., 16.,  2.,  0.],\n",
              "         [ 0.,  0.,  5., ..., 12.,  0.,  0.]],\n",
              " \n",
              "        [[ 0.,  0., 10., ...,  1.,  0.,  0.],\n",
              "         [ 0.,  2., 16., ...,  1.,  0.,  0.],\n",
              "         [ 0.,  0., 15., ..., 15.,  0.,  0.],\n",
              "         ...,\n",
              "         [ 0.,  4., 16., ..., 16.,  6.,  0.],\n",
              "         [ 0.,  8., 16., ..., 16.,  8.,  0.],\n",
              "         [ 0.,  1.,  8., ..., 12.,  1.,  0.]]]),\n",
              " 'target': array([0, 1, 2, ..., 8, 9, 8]),\n",
              " 'target_names': array([0, 1, 2, 3, 4, 5, 6, 7, 8, 9])}"
            ]
          },
          "execution_count": 3,
          "metadata": {},
          "output_type": "execute_result"
        }
      ]
    },
    {
      "cell_type": "markdown",
      "metadata": {
        "id": "d-XeA7xTl84i"
      },
      "source": [
        "**Baseline Machine Learning models:\n",
        "Clasifiers with Default Hyperparameters**"
      ]
    },
    {
      "cell_type": "code",
      "metadata": {
        "colab": {
          "base_uri": "https://localhost:8080/"
        },
        "id": "fn3UeqAVmzjJ",
        "outputId": "985eafec-41e3-4583-9dc6-ade070f7cff9"
      },
      "source": [
        "# RANDOM NFORET CLASSIFER\n",
        "clf = RandomForestClassifier()\n",
        "clf.fit(x,y)\n",
        "scores= cross_val_score(clf, x, y, cv=3, scoring='accuracy')\n",
        "print('accuracy:'+ str(scores.mean()))"
      ],
      "execution_count": null,
      "outputs": [
        {
          "name": "stdout",
          "output_type": "stream",
          "text": [
            "accuracy:0.9376739009460211\n"
          ]
        }
      ]
    },
    {
      "cell_type": "code",
      "metadata": {
        "colab": {
          "base_uri": "https://localhost:8080/"
        },
        "id": "8Dw6bN8FqLOF",
        "outputId": "4284d9db-4b5b-4154-cc25-3395652b2a0d"
      },
      "source": [
        "#   SVM\n",
        "clf = SVC(gamma='scale')\n",
        "clf.fit(x,y)\n",
        "scores= cross_val_score(clf, x, y, cv=3, scoring='accuracy')\n",
        "print('accuracy:'+ str(scores.mean()))"
      ],
      "execution_count": null,
      "outputs": [
        {
          "name": "stdout",
          "output_type": "stream",
          "text": [
            "accuracy:0.9699499165275459\n"
          ]
        }
      ]
    },
    {
      "cell_type": "code",
      "metadata": {
        "colab": {
          "base_uri": "https://localhost:8080/"
        },
        "id": "HqRqogsvqq-P",
        "outputId": "b776bedf-5f17-4eb5-8645-ff3c2fa13095"
      },
      "source": [
        "# KNN\n",
        "clf = KNeighborsClassifier()\n",
        "clf.fit(x,y)\n",
        "scores= cross_val_score(clf, x, y, cv=3, scoring='accuracy')\n",
        "print('accuracy:'+ str(scores.mean()))"
      ],
      "execution_count": null,
      "outputs": [
        {
          "name": "stdout",
          "output_type": "stream",
          "text": [
            "accuracy:0.9627156371730662\n"
          ]
        }
      ]
    },
    {
      "cell_type": "code",
      "metadata": {
        "id": "tv0_szrLtsqj"
      },
      "source": [
        "#ANN\n",
        "from keras.models import Sequential, Model\n",
        "from  keras.layers import Dense, Input\n",
        "from sklearn.model_selection import GridSearchCV\n",
        "from keras.wrappers.scikit_learn import KerasClassifier\n",
        "from keras.callbacks import EarlyStopping\n",
        "\n",
        "def ANN(optimizer = 'sgd', neurons=32, batch_size=32, epochs=20, activation='relu',patience=3,loss='categorical_crossentropy'):\n",
        "  model = Sequential()\n",
        "  model.add(Dense(neurons, input_shape=(x.shape[1],), activation=activation))\n",
        "  model.add(Dense(neurons, activation=activation))\n",
        "  model.add(Dense(10, activation='softmax'))\n",
        "  model.compile(optimizer=optimizer, loss=loss)\n",
        "  early_stopping =EarlyStopping(monitor='loss', patience=patience) # early stop patience\n",
        "  history=model.fit(x, pd.get_dummies(y).values,\n",
        "                    batch_size=batch_size,\n",
        "                    epochs=epochs,\n",
        "                    callbacks=[early_stopping],\n",
        "                    verbose=0)# verbose set to 1 will show the training process\n",
        "  return model\n"
      ],
      "execution_count": null,
      "outputs": []
    },
    {
      "cell_type": "code",
      "metadata": {
        "colab": {
          "base_uri": "https://localhost:8080/"
        },
        "id": "fgupyTsy6WaZ",
        "outputId": "fcaea457-d19b-41cd-916f-04d33661b109"
      },
      "source": [
        "clf = KerasClassifier(build_fn=ANN, verbose=1)\n",
        "scores= cross_val_score(clf, x, y, cv=3, scoring='accuracy')\n",
        "print('accuracy:'+ str(scores.mean()))"
      ],
      "execution_count": null,
      "outputs": [
        {
          "name": "stderr",
          "output_type": "stream",
          "text": [
            "/usr/local/lib/python3.7/dist-packages/ipykernel_launcher.py:1: DeprecationWarning: KerasClassifier is deprecated, use Sci-Keras (https://github.com/adriangb/scikeras) instead.\n",
            "  \"\"\"Entry point for launching an IPython kernel.\n"
          ]
        },
        {
          "name": "stdout",
          "output_type": "stream",
          "text": [
            "38/38 [==============================] - 0s 2ms/step - loss: 0.0396\n",
            "38/38 [==============================] - 0s 2ms/step - loss: 0.0536\n",
            "38/38 [==============================] - 0s 2ms/step - loss: 0.0488\n",
            "accuracy:0.9821925431274346\n"
          ]
        }
      ]
    },
    {
      "cell_type": "markdown",
      "metadata": {
        "id": "T-etK7fj88wE"
      },
      "source": [
        "# HPO Algorithm 1: Grid Search\n",
        "search all the given hyper-parameter configurations\n",
        "\n",
        "# Advantatages:\n",
        "\n",
        "*  Simple implementation.\n",
        "\n",
        "# Disadvantages\n",
        "\n",
        "*  time consuming\n",
        "*  only efficient with categorical HPs\n",
        "\n",
        "\n",
        "\n",
        "\n"
      ]
    },
    {
      "cell_type": "code",
      "metadata": {
        "colab": {
          "base_uri": "https://localhost:8080/"
        },
        "id": "ga6DQm4r87xm",
        "outputId": "ab41a365-0660-4dce-e236-c5993630380a"
      },
      "source": [
        "# Random forest\n",
        "from sklearn.model_selection import GridSearchCV\n",
        "# define the hyperparameter configuration space\n",
        "params = {\n",
        "    'n_estimators': [10, 20, 30],\n",
        "    # 'max_features': ['sqrt', 0.5],\n",
        "    'max_depth': [15, 20, 30, 50],\n",
        "    # 'min_samples_leaf': [1,2,4,8]\n",
        "    #\"bootstrap\":[True,False],\n",
        "    \"criterion\":['gini', 'entropy']\n",
        "}\n",
        "\n",
        "clf= RandomForestClassifier(random_state=0)\n",
        "grid=GridSearchCV(clf, params, cv=3, scoring='accuracy')\n",
        "grid.fit(x, y)\n",
        "print(grid.best_params_)\n",
        "print('Accuracy:'+str(grid.best_score_))"
      ],
      "execution_count": null,
      "outputs": [
        {
          "name": "stdout",
          "output_type": "stream",
          "text": [
            "{'criterion': 'gini', 'max_depth': 15, 'n_estimators': 30}\n",
            "Accuracy:0.9360044518642182\n"
          ]
        }
      ]
    },
    {
      "cell_type": "code",
      "metadata": {
        "colab": {
          "base_uri": "https://localhost:8080/"
        },
        "id": "aG7aXUr8EO0z",
        "outputId": "bd453cc0-06d2-4061-86d9-cfb45cbd782a"
      },
      "source": [
        "# SVM\n",
        "from sklearn.model_selection import GridSearchCV\n",
        "# define the hyperparameter configuration space\n",
        "params = {\n",
        "    'C': [1, 10, 100],\n",
        "    'kernel':['linear', 'poly', 'rbf', 'sigmoid']\n",
        "}\n",
        "\n",
        "clf= SVC(gamma='scale')\n",
        "grid=GridSearchCV(clf, params, cv=3, scoring='accuracy')\n",
        "grid.fit(x, y)\n",
        "print(grid.best_params_)\n",
        "print('Accuracy:'+str(grid.best_score_))"
      ],
      "execution_count": null,
      "outputs": [
        {
          "name": "stdout",
          "output_type": "stream",
          "text": [
            "{'C': 10, 'kernel': 'rbf'}\n",
            "Accuracy:0.9738452977184195\n"
          ]
        }
      ]
    },
    {
      "cell_type": "code",
      "metadata": {
        "colab": {
          "base_uri": "https://localhost:8080/"
        },
        "id": "KrjDemKvF9bd",
        "outputId": "1b414cc1-d539-4890-cfaa-6601c8304559"
      },
      "source": [
        "#KNN\n",
        "from sklearn.model_selection import GridSearchCV\n",
        "# define the hyperparameter configuration space\n",
        "params = {\n",
        "  'n_neighbors':[2, 3, 5, 10, 15, 20],\n",
        "}\n",
        "\n",
        "clf= KNeighborsClassifier()\n",
        "grid=GridSearchCV(clf, params, cv=3, scoring='accuracy')\n",
        "grid.fit(x, y)\n",
        "print(grid.best_params_)\n",
        "print('Accuracy:'+str(grid.best_score_))"
      ],
      "execution_count": null,
      "outputs": [
        {
          "name": "stdout",
          "output_type": "stream",
          "text": [
            "{'n_neighbors': 3}\n",
            "Accuracy:0.9682804674457429\n"
          ]
        }
      ]
    },
    {
      "cell_type": "code",
      "metadata": {
        "colab": {
          "background_save": true,
          "base_uri": "https://localhost:8080/"
        },
        "id": "OqaYKpXOGwqy",
        "outputId": "f87bbbe7-d52a-4d50-d80e-339849dad883"
      },
      "source": [
        "#ANN\n",
        "from sklearn.model_selection import GridSearchCV\n",
        "# define the hyperparameter configuration space\n",
        "params = {\n",
        "    'optimizer':['adam', 'rmsprop', 'sgd'],\n",
        "    'activation':['relu', 'tanh'],\n",
        "    'batch_size':[16, 32],\n",
        "    'neurons':[16,32],\n",
        "    'epochs':[20,50],\n",
        "    'patience':[2,5]\n",
        "}\n",
        "\n",
        "clf= KerasClassifier(build_fn=ANN, verbose=0)\n",
        "grid=GridSearchCV(clf, params, cv=3, scoring='accuracy')\n",
        "grid.fit(x, y)\n",
        "print(grid.best_params_)\n",
        "print('MSE:'+str(grid.best_score_))"
      ],
      "execution_count": null,
      "outputs": [
        {
          "name": "stderr",
          "output_type": "stream",
          "text": [
            "/usr/local/lib/python3.7/dist-packages/ipykernel_launcher.py:13: DeprecationWarning: KerasClassifier is deprecated, use Sci-Keras (https://github.com/adriangb/scikeras) instead.\n",
            "  del sys.path[0]\n"
          ]
        },
        {
          "name": "stdout",
          "output_type": "stream",
          "text": [
            "{'activation': 'relu', 'batch_size': 16, 'epochs': 50, 'neurons': 32, 'optimizer': 'sgd', 'patience': 5}\n",
            "MSE:0.9988870339454646\n"
          ]
        }
      ]
    },
    {
      "cell_type": "code",
      "metadata": {
        "id": "hP-iNeDGKCXG"
      },
      "source": [
        ""
      ],
      "execution_count": null,
      "outputs": []
    },
    {
      "cell_type": "markdown",
      "metadata": {
        "id": "ZYS6OMuXJE1g"
      },
      "source": [
        "# HPO Algorithm 2: Random Search space\n",
        "\n",
        "randomly search hyperparameter combinations in the search space\n",
        "\n",
        "**Advantages:**\n",
        "\n",
        "*  More efficient than gridsearch GS.\n",
        "*  Enable parallelization\n",
        "\n",
        "**Disadvantages:**\n",
        "\n",
        "*  does not consider previous results\n",
        "*  not efficient with cionditional HPs\n",
        "\n",
        "\n",
        "\n"
      ]
    },
    {
      "cell_type": "code",
      "metadata": {
        "colab": {
          "base_uri": "https://localhost:8080/"
        },
        "id": "wlHSEFJ9K-cw",
        "outputId": "8f13c155-74d9-4816-d617-24a502439a5d"
      },
      "source": [
        "# Random Forest\n",
        "from scipy.stats import randint as sp_randint\n",
        "from random import randrange as sp_randrange\n",
        "from sklearn.model_selection import RandomizedSearchCV\n",
        "\n",
        "#define the hyperparameter configuration space\n",
        "params = {\n",
        "    'n_estimators': sp_randint(10,100),\n",
        "    'max_features': sp_randint(1, 64),\n",
        "    'max_depth': sp_randint(5,50),\n",
        "    'min_samples_split': sp_randint(2, 11),\n",
        "    'min_samples_leaf': sp_randint(1,11),\n",
        "    'criterion': ['gini', 'entropy']\n",
        "}\n",
        "\n",
        "n_iter_search=20 # number of iterations is set to 20, you can increase it if time permits\n",
        "clf = RandomForestClassifier(random_state=0)\n",
        "Random = RandomizedSearchCV(clf, param_distributions=params, n_iter=n_iter_search,cv=3,scoring='accuracy' )\n",
        "Random.fit(x, y),\n",
        "print(Random.best_params_)\n",
        "print('Accuracy:'+str(Random.best_score_))"
      ],
      "execution_count": null,
      "outputs": [
        {
          "name": "stdout",
          "output_type": "stream",
          "text": [
            "{'criterion': 'entropy', 'max_depth': 35, 'max_features': 36, 'min_samples_leaf': 1, 'min_samples_split': 4, 'n_estimators': 47}\n",
            "Accuracy:0.9176405119643851\n"
          ]
        }
      ]
    },
    {
      "cell_type": "code",
      "metadata": {
        "colab": {
          "base_uri": "https://localhost:8080/"
        },
        "id": "d5IdjE-HI-2o",
        "outputId": "5e009873-8323-4e20-9dc4-a359c4283a1d"
      },
      "source": [
        "# SVM\n",
        "from scipy.stats import randint as sp_randint\n",
        "from sklearn.model_selection import RandomizedSearchCV\n",
        "\n",
        "#define the hyperparameter configuration space\n",
        "params = {\n",
        "    'C': stats.uniform(0,50),\n",
        "    'kernel':['linear', 'poly', 'rbf', 'sigmoid']\n",
        "}\n",
        "\n",
        "n_iter_search=20 # number of iterations is set to 20, you can increase it if time permits\n",
        "clf = SVC(gamma='scale')\n",
        "Random = RandomizedSearchCV(clf, param_distributions=params, n_iter=n_iter_search,cv=3,scoring='accuracy' )\n",
        "Random.fit(x, y),\n",
        "print(Random.best_params_)\n",
        "print('Accuracy:'+str(Random.best_score_))"
      ],
      "execution_count": null,
      "outputs": [
        {
          "name": "stdout",
          "output_type": "stream",
          "text": [
            "{'C': 30.854054917308055, 'kernel': 'rbf'}\n",
            "Accuracy:0.9738452977184195\n"
          ]
        }
      ]
    },
    {
      "cell_type": "code",
      "metadata": {
        "colab": {
          "base_uri": "https://localhost:8080/"
        },
        "id": "Bq97X0f3Q5q-",
        "outputId": "64b53b86-7166-4b5a-fc5b-82d55901b42d"
      },
      "source": [
        "#KNN\n",
        "from scipy.stats import randint as sp_randint\n",
        "from sklearn.model_selection import RandomizedSearchCV\n",
        "\n",
        "#define the hyperparameter configuration space\n",
        "params = {\n",
        "    'n_neighbors': range(1, 20),\n",
        "}\n",
        "\n",
        "n_iter_search=20 # number of iterations is set to 20, you can increase it if time permits\n",
        "clf = KNeighborsClassifier()\n",
        "Random = RandomizedSearchCV(clf, param_distributions=params, n_iter=n_iter_search,cv=3,scoring='accuracy' )\n",
        "Random.fit(x, y),\n",
        "print(Random.best_params_)\n",
        "print('Accuracy:'+str(Random.best_score_))"
      ],
      "execution_count": null,
      "outputs": [
        {
          "name": "stderr",
          "output_type": "stream",
          "text": [
            "/usr/local/lib/python3.7/dist-packages/sklearn/model_selection/_search.py:296: UserWarning: The total space of parameters 19 is smaller than n_iter=20. Running 19 iterations. For exhaustive searches, use GridSearchCV.\n",
            "  UserWarning,\n"
          ]
        },
        {
          "name": "stdout",
          "output_type": "stream",
          "text": [
            "{'n_neighbors': 3}\n",
            "Accuracy:0.9682804674457429\n"
          ]
        }
      ]
    },
    {
      "cell_type": "code",
      "metadata": {
        "colab": {
          "base_uri": "https://localhost:8080/"
        },
        "id": "9XS1OrLRaexm",
        "outputId": "e5b436f9-946e-4232-a574-fd2bad50dbe3"
      },
      "source": [
        "# ANN\n",
        "from scipy.stats import randint as sp_randint\n",
        "from random import randrange as sp_randrange\n",
        "from sklearn.model_selection import RandomizedSearchCV\n",
        "\n",
        "#define the hyperparameter configuration space\n",
        "params = {\n",
        "    'optimizer': ['adam','rmsprop','sgd'],\n",
        "    'activation': ['relu','tanh'],\n",
        "    'batch_size': [16,32,64],\n",
        "    'neurons':sp_randint(10,100),\n",
        "    'epochs':[20,50],\n",
        "    #'epochs':[20,50,100,200],\n",
        "    'patience':sp_randint(3,20)\n",
        "\n",
        "}\n",
        "\n",
        "n_iter_search=10 # number of iterations is set to 20, you can increase it if time permits\n",
        "clf = KerasClassifier(build_fn=ANN, verbose=0)\n",
        "Random = RandomizedSearchCV(clf, param_distributions=params, n_iter=n_iter_search,cv=3,scoring='accuracy' )\n",
        "Random.fit(x, y)\n",
        "print(Random.best_params_)\n",
        "print('Accuracy:'+str(Random.best_score_))"
      ],
      "execution_count": null,
      "outputs": [
        {
          "name": "stderr",
          "output_type": "stream",
          "text": [
            "/usr/local/lib/python3.7/dist-packages/ipykernel_launcher.py:19: DeprecationWarning: KerasClassifier is deprecated, use Sci-Keras (https://github.com/adriangb/scikeras) instead.\n"
          ]
        }
      ]
    },
    {
      "cell_type": "markdown",
      "metadata": {
        "id": "Gr0BYpE-eWZJ"
      },
      "source": [
        "# HPO Algorithm 3: Hyperband\n",
        "Generate mall-sized subsets and allocate budgets to each hyperparameter combination based on its performance\n",
        "\n",
        "**Advantages:**\n",
        "> Enables parallelization\n",
        "\n",
        "**disadvantages:**\n",
        "*  Not efficient with conditional HPs\n",
        "*  Require subsets with small budgets to be representative"
      ]
    },
    {
      "cell_type": "code",
      "metadata": {
        "colab": {
          "base_uri": "https://localhost:8080/",
          "height": 393
        },
        "id": "sojNJpcagND2",
        "outputId": "85067fe0-0870-4f2a-c21e-ec36ccc3635a"
      },
      "source": [
        "# Randm Forest\n",
        "from hyperband import HyperbandSearchCV\n",
        "from scipy.stats import randint as sp_randint\n",
        "from random import randrange as sp_randrange\n",
        "\n",
        "# define the hyperparameter configuration space\n",
        "\n",
        "params = {\n",
        "    'n_estimators': sp_randint(10, 100),\n",
        "    'max_features': sp_randint(1, 64),\n",
        "    'max_depth': sp_randint(5, 50),\n",
        "    'min_samples_split': sp_randint(2, 11),\n",
        "    'min_samples_leaf': sp_randint(1, 11),\n",
        "    'criterion': ['gini', 'entropy']\n",
        "}\n",
        "\n",
        "clf = RandomForestClassifier(random_state=0)\n",
        "hyper = HyperbandSearchCV(clf, param_distribution=params, cv=3,min_iter=1,max_iter=20,scoring='accuracy',resource_param='n_neighbors')\n",
        "hyper.fit(x, y)\n",
        "print(hyper.best_params)\n",
        "print(\"Accuracy:\"+ str(hyper.best_score_))"
      ],
      "execution_count": null,
      "outputs": [
        {
          "ename": "ModuleNotFoundError",
          "evalue": "ignored",
          "output_type": "error",
          "traceback": [
            "\u001b[0;31m---------------------------------------------------------------------------\u001b[0m",
            "\u001b[0;31mModuleNotFoundError\u001b[0m                       Traceback (most recent call last)",
            "\u001b[0;32m<ipython-input-24-345161df3339>\u001b[0m in \u001b[0;36m<module>\u001b[0;34m()\u001b[0m\n\u001b[1;32m      1\u001b[0m \u001b[0;31m# Randm Forest\u001b[0m\u001b[0;34m\u001b[0m\u001b[0;34m\u001b[0m\u001b[0;34m\u001b[0m\u001b[0m\n\u001b[0;32m----> 2\u001b[0;31m \u001b[0;32mfrom\u001b[0m \u001b[0mhyperband\u001b[0m \u001b[0;32mimport\u001b[0m \u001b[0mHyperbandSearchCV\u001b[0m\u001b[0;34m\u001b[0m\u001b[0;34m\u001b[0m\u001b[0m\n\u001b[0m\u001b[1;32m      3\u001b[0m \u001b[0;32mfrom\u001b[0m \u001b[0mscipy\u001b[0m\u001b[0;34m.\u001b[0m\u001b[0mstats\u001b[0m \u001b[0;32mimport\u001b[0m \u001b[0mrandint\u001b[0m \u001b[0;32mas\u001b[0m \u001b[0msp_randint\u001b[0m\u001b[0;34m\u001b[0m\u001b[0;34m\u001b[0m\u001b[0m\n\u001b[1;32m      4\u001b[0m \u001b[0;32mfrom\u001b[0m \u001b[0mrandom\u001b[0m \u001b[0;32mimport\u001b[0m \u001b[0mrandrange\u001b[0m \u001b[0;32mas\u001b[0m \u001b[0msp_randrange\u001b[0m\u001b[0;34m\u001b[0m\u001b[0;34m\u001b[0m\u001b[0m\n\u001b[1;32m      5\u001b[0m \u001b[0;34m\u001b[0m\u001b[0m\n",
            "\u001b[0;31mModuleNotFoundError\u001b[0m: No module named 'hyperband'",
            "",
            "\u001b[0;31m---------------------------------------------------------------------------\u001b[0;32m\nNOTE: If your import is failing due to a missing package, you can\nmanually install dependencies using either !pip or !apt.\n\nTo view examples of installing some common dependencies, click the\n\"Open Examples\" button below.\n\u001b[0;31m---------------------------------------------------------------------------\u001b[0m\n"
          ]
        }
      ]
    },
    {
      "cell_type": "code",
      "metadata": {
        "colab": {
          "base_uri": "https://localhost:8080/",
          "height": 135
        },
        "id": "VMtQ651zp29x",
        "outputId": "cd9e3c7b-b4ce-4b43-b80b-cd73b418eb8f"
      },
      "source": [
        "#SVM\n",
        "\n",
        "from hyperband import HyperbandSearchCV\n",
        "from scipy.stats import randint as sp_randint\n",
        "from random import randrange as sp_randrange\n",
        "\n",
        "# define the hyperparameter configuration space\n",
        "\n",
        "params = {\n",
        "    'C': stats.uniform(0, 50)\n",
        "},\n",
        "'kernel':['linear', 'poly', 'rbf', 'sigmoid']\n",
        "\n",
        "clf = SVC(gamma'scale)\n",
        "hyper = HyperbandSearchCV(clf, param_distribution=params, cv=3,min_iter=1,max_iter=20,scoring='accuracy',resource_param='n_neighbors')\n",
        "hyper.fit(x, y)\n",
        "print(hyper.best_params)\n",
        "print(\"Accuracy:\"+ str(hyper.best_score_))"
      ],
      "execution_count": null,
      "outputs": [
        {
          "ename": "SyntaxError",
          "evalue": "ignored",
          "output_type": "error",
          "traceback": [
            "\u001b[0;36m  File \u001b[0;32m\"<ipython-input-25-e5f9b046344f>\"\u001b[0;36m, line \u001b[0;32m1\u001b[0m\n\u001b[0;31m    git clone https://github.com/thuijskens/scikit-hyperband.git\u001b[0m\n\u001b[0m            ^\u001b[0m\n\u001b[0;31mSyntaxError\u001b[0m\u001b[0;31m:\u001b[0m invalid syntax\n"
          ]
        }
      ]
    },
    {
      "cell_type": "code",
      "metadata": {
        "id": "aXUMrV4c3Cuk"
      },
      "source": [
        "#KNN\n",
        "\n",
        "from hyperband import HyperbandSearchCV\n",
        "from scipy.stats import randint as sp_randint\n",
        "from random import randrange as sp_randrange\n",
        "\n",
        "# define the hyperparameter configuration space\n",
        "\n",
        "params = {\n",
        "    'n_neighbors': range(1, 2),\n",
        "}\n",
        "\n",
        "clf = KNeighborsClassifier()\n",
        "hyper = HyperbandSearchCV(clf, param_distribution=params, cv=3,min_iter=1,max_iter=20,scoring='accuracy',resource_param='n_neighbors')\n",
        "hyper.fit(x, y)\n",
        "print(hyper.best_params)\n",
        "print(\"Accuracy:\"+ str(hyper.best_score_))"
      ],
      "execution_count": null,
      "outputs": []
    },
    {
      "cell_type": "code",
      "metadata": {
        "id": "1qT8f3hegCQ4"
      },
      "source": [
        "from hyperband import HyperbandSearchCV\n",
        "from scipy.stats import randint as sp_randint\n",
        "from random import randrange as sp_randrange\n",
        "\n",
        "# define the hyperparameter configuration space\n",
        "\n",
        "params = {\n",
        "    'optimizer': ['adam','rmsprop','sgd'],\n",
        "    'activation': ['relu','tanh'],\n",
        "    'batch_size': [16,32,64],\n",
        "    'neurons':sp_randint(10,100),\n",
        "    'epochs':[20,50],\n",
        "    #'epochs':[20,50,100,200],\n",
        "    'patience':sp_randint(3,20\n",
        "}\n",
        "\n",
        "clf = kerasClassifier(built_fn=ANN, epochs=20, verbose=0)\n",
        "hyper = HyperbandSearchCV(clf, param_distribution=params, cv=3,min_iter=1,max_iter=20,scoring='accuracy',resource_param='n_neighbors')\n",
        "hyper.fit(x, y)\n",
        "print(hyper.best_params)\n",
        "print(\"Accuracy:\"+ str(hyper.best_score_))"
      ],
      "execution_count": null,
      "outputs": []
    },
    {
      "cell_type": "code",
      "metadata": {
        "colab": {
          "base_uri": "https://localhost:8080/",
          "height": 393
        },
        "id": "Hq1S7kg1CvfD",
        "outputId": "d745751a-1788-446c-c34c-5847ea32157b"
      },
      "source": [
        "\"\"\"\n",
        "\"\"\"\n",
        "from .search import HyperbandSearchCV\n",
        "\n",
        "__all__ = ['HyperbandSearchCV']"
      ],
      "execution_count": null,
      "outputs": [
        {
          "ename": "ImportError",
          "evalue": "ignored",
          "output_type": "error",
          "traceback": [
            "\u001b[0;31m---------------------------------------------------------------------------\u001b[0m",
            "\u001b[0;31mImportError\u001b[0m                               Traceback (most recent call last)",
            "\u001b[0;32m<ipython-input-26-ad6b9c5283f8>\u001b[0m in \u001b[0;36m<module>\u001b[0;34m()\u001b[0m\n\u001b[1;32m      1\u001b[0m \"\"\"\n\u001b[1;32m      2\u001b[0m \"\"\"\n\u001b[0;32m----> 3\u001b[0;31m \u001b[0;32mfrom\u001b[0m \u001b[0;34m.\u001b[0m\u001b[0msearch\u001b[0m \u001b[0;32mimport\u001b[0m \u001b[0mHyperbandSearchCV\u001b[0m\u001b[0;34m\u001b[0m\u001b[0;34m\u001b[0m\u001b[0m\n\u001b[0m\u001b[1;32m      4\u001b[0m \u001b[0;34m\u001b[0m\u001b[0m\n\u001b[1;32m      5\u001b[0m \u001b[0m__all__\u001b[0m \u001b[0;34m=\u001b[0m \u001b[0;34m[\u001b[0m\u001b[0;34m'HyperbandSearchCV'\u001b[0m\u001b[0;34m]\u001b[0m\u001b[0;34m\u001b[0m\u001b[0;34m\u001b[0m\u001b[0m\n",
            "\u001b[0;31mImportError\u001b[0m: attempted relative import with no known parent package",
            "",
            "\u001b[0;31m---------------------------------------------------------------------------\u001b[0;32m\nNOTE: If your import is failing due to a missing package, you can\nmanually install dependencies using either !pip or !apt.\n\nTo view examples of installing some common dependencies, click the\n\"Open Examples\" button below.\n\u001b[0;31m---------------------------------------------------------------------------\u001b[0m\n"
          ]
        }
      ]
    },
    {
      "cell_type": "markdown",
      "metadata": {
        "id": "NkEVnAy5C7qJ"
      },
      "source": [
        "**HPO Algorithm 4: BO-GP**\n",
        "Bayesian Optimization with Gaussian Process (BO-GP)\n",
        "\n",
        "**Advantages:**\n",
        "* Fast convergence speed for continuous HPs.\n",
        "\n",
        "**Disavantages:**\n",
        "\n",
        "* Poor capacity for parallelization.\n",
        "* Not efficient with conditional HPs.\n",
        "\n",
        "**Using skopt,BayesSearchCV**"
      ]
    },
    {
      "cell_type": "code",
      "metadata": {
        "id": "FiWLeS8kEUPC",
        "colab": {
          "base_uri": "https://localhost:8080/",
          "height": 393
        },
        "outputId": "921119c7-afbf-4583-dda3-f8a678f752ef"
      },
      "source": [
        "# Random forest\n",
        "from skopt import OPtimizer\n",
        "from skopt import BayesSearchCV\n",
        "from skopt.space import Real, Categorical, Integer\n",
        "\n",
        "#"
      ],
      "execution_count": null,
      "outputs": [
        {
          "output_type": "error",
          "ename": "ModuleNotFoundError",
          "evalue": "ignored",
          "traceback": [
            "\u001b[0;31m---------------------------------------------------------------------------\u001b[0m",
            "\u001b[0;31mModuleNotFoundError\u001b[0m                       Traceback (most recent call last)",
            "\u001b[0;32m<ipython-input-1-1229e17e1ee8>\u001b[0m in \u001b[0;36m<module>\u001b[0;34m()\u001b[0m\n\u001b[1;32m      1\u001b[0m \u001b[0;31m# Random forest\u001b[0m\u001b[0;34m\u001b[0m\u001b[0;34m\u001b[0m\u001b[0;34m\u001b[0m\u001b[0m\n\u001b[0;32m----> 2\u001b[0;31m \u001b[0;32mfrom\u001b[0m \u001b[0mskopt\u001b[0m \u001b[0;32mimport\u001b[0m \u001b[0mOPtimizer\u001b[0m\u001b[0;34m\u001b[0m\u001b[0;34m\u001b[0m\u001b[0m\n\u001b[0m\u001b[1;32m      3\u001b[0m \u001b[0;32mfrom\u001b[0m \u001b[0mskopt\u001b[0m \u001b[0;32mimport\u001b[0m \u001b[0mBayesSearchCV\u001b[0m\u001b[0;34m\u001b[0m\u001b[0;34m\u001b[0m\u001b[0m\n\u001b[1;32m      4\u001b[0m \u001b[0;32mfrom\u001b[0m \u001b[0mskopt\u001b[0m\u001b[0;34m.\u001b[0m\u001b[0mspace\u001b[0m \u001b[0;32mimport\u001b[0m \u001b[0mReal\u001b[0m\u001b[0;34m,\u001b[0m \u001b[0mCategorical\u001b[0m\u001b[0;34m,\u001b[0m \u001b[0mInteger\u001b[0m\u001b[0;34m\u001b[0m\u001b[0;34m\u001b[0m\u001b[0m\n\u001b[1;32m      5\u001b[0m \u001b[0;34m\u001b[0m\u001b[0m\n",
            "\u001b[0;31mModuleNotFoundError\u001b[0m: No module named 'skopt'",
            "",
            "\u001b[0;31m---------------------------------------------------------------------------\u001b[0;32m\nNOTE: If your import is failing due to a missing package, you can\nmanually install dependencies using either !pip or !apt.\n\nTo view examples of installing some common dependencies, click the\n\"Open Examples\" button below.\n\u001b[0;31m---------------------------------------------------------------------------\u001b[0m\n"
          ],
          "errorDetails": {
            "actions": [
              {
                "action": "open_url",
                "actionText": "Open Examples",
                "url": "/notebooks/snippets/importing_libraries.ipynb"
              }
            ]
          }
        }
      ]
    },
    {
      "cell_type": "code",
      "metadata": {
        "colab": {
          "base_uri": "https://localhost:8080/"
        },
        "id": "wyaR6MjP6ePC",
        "outputId": "625bd9bc-fd5a-42bc-ff86-24fd54ebd0c8"
      },
      "source": [
        "!pip install skopt"
      ],
      "execution_count": null,
      "outputs": [
        {
          "output_type": "stream",
          "name": "stdout",
          "text": [
            "\u001b[31mERROR: Could not find a version that satisfies the requirement skopt (from versions: none)\u001b[0m\n",
            "\u001b[31mERROR: No matching distribution found for skopt\u001b[0m\n"
          ]
        }
      ]
    }
  ]
}